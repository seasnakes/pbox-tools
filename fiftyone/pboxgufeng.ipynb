{
 "cells": [
  {
   "cell_type": "code",
   "execution_count": 1,
   "metadata": {},
   "outputs": [],
   "source": [
    "import fiftyone as fo\n"
   ]
  },
  {
   "cell_type": "code",
   "execution_count": 2,
   "metadata": {},
   "outputs": [
    {
     "data": {
      "text/html": [
       "\n",
       "        <iframe\n",
       "            width=\"100%\"\n",
       "            height=\"800\"\n",
       "            src=\"http://0.0.0.0:7778/?notebook=True&subscription=ec3da037-b2cc-4a84-a9cd-0d5e11cc4924\"\n",
       "            frameborder=\"0\"\n",
       "            allowfullscreen\n",
       "            \n",
       "        ></iframe>\n",
       "        "
      ],
      "text/plain": [
       "<IPython.lib.display.IFrame at 0x7efccdc48490>"
      ]
     },
     "metadata": {},
     "output_type": "display_data"
    }
   ],
   "source": [
    "session = fo.launch_app(address=\"0.0.0.0\", port=7778)\n"
   ]
  },
  {
   "cell_type": "markdown",
   "metadata": {},
   "source": [
    "导入数据集"
   ]
  },
  {
   "cell_type": "code",
   "execution_count": 5,
   "metadata": {},
   "outputs": [
    {
     "name": "stdout",
     "output_type": "stream",
     "text": [
      " 100% |█████████████| 32087/32087 [2.2s elapsed, 0s remaining, 14.7K samples/s]      \n"
     ]
    }
   ],
   "source": [
    "name = \"pboxGufeng3w\"\n",
    "\n",
    "dataset_dir = \"/home/pbox/models/fiftyone\"\n",
    "\n",
    "dataset_type = fo.types.ImageDirectory\n",
    "\n",
    "dataset = fo.Dataset.from_dir(\n",
    "    dataset_dir=dataset_dir,\n",
    "    dataset_type=dataset_type,\n",
    "    name=name,\n",
    ")"
   ]
  },
  {
   "cell_type": "code",
   "execution_count": 6,
   "metadata": {},
   "outputs": [],
   "source": [
    "dataset.persistent = True "
   ]
  },
  {
   "cell_type": "code",
   "execution_count": 3,
   "metadata": {},
   "outputs": [
    {
     "data": {
      "text/plain": [
       "['pboxGufeng3w']"
      ]
     },
     "execution_count": 3,
     "metadata": {},
     "output_type": "execute_result"
    }
   ],
   "source": [
    "fo.list_datasets()"
   ]
  },
  {
   "cell_type": "code",
   "execution_count": 4,
   "metadata": {},
   "outputs": [],
   "source": [
    "name = \"pboxGufeng3w\"\n",
    "dataset = fo.load_dataset(name)\n",
    "# dataset.delete()"
   ]
  },
  {
   "cell_type": "markdown",
   "metadata": {},
   "source": [
    "clip抽向量，存向量数据库"
   ]
  },
  {
   "cell_type": "code",
   "execution_count": 5,
   "metadata": {},
   "outputs": [],
   "source": [
    "import fiftyone.brain as fob # ML routines\n",
    "from fiftyone import ViewField as F # for defining custom views"
   ]
  },
  {
   "cell_type": "code",
   "execution_count": 6,
   "metadata": {},
   "outputs": [
    {
     "name": "stderr",
     "output_type": "stream",
     "text": [
      "/home/pbox/miniconda3/envs/fiftyone/lib/python3.10/site-packages/transformers/tokenization_utils_base.py:1601: FutureWarning: `clean_up_tokenization_spaces` was not set. It will be set to `True` by default. This behavior will be depracted in transformers v4.45, and will be then set to `False` by default. For more details check this issue: https://github.com/huggingface/transformers/issues/31884\n",
      "  warnings.warn(\n"
     ]
    },
    {
     "name": "stdout",
     "output_type": "stream",
     "text": [
      "Computing embeddings...\n",
      " 100% |███████████████| 1291/1291 [8.7m elapsed, 0s remaining, 2.7 samples/s]      \n"
     ]
    }
   ],
   "source": [
    "view = dataset.load_saved_view(\"finetunetest\")\n",
    "\n",
    "qdrant_index = fob.compute_similarity(\n",
    "    view,\n",
    "    brain_key=\"qpbgf_view\",\n",
    "    backend=\"qdrant\",\n",
    "    model=\"zero-shot-classification-transformer-torch\",\n",
    "    embeddings=\"embeddingx\",\n",
    "    collection_name=\"fiftyone-pboxgufeng1k\",\n",
    "    name_or_path=\"OFA-Sys/chinese-clip-vit-base-patch16\",\n",
    ")"
   ]
  },
  {
   "cell_type": "markdown",
   "metadata": {},
   "source": [
    "读取美学评分"
   ]
  },
  {
   "cell_type": "code",
   "execution_count": null,
   "metadata": {},
   "outputs": [],
   "source": [
    "import re\n",
    "import os\n",
    "\n",
    "\n",
    "dataset.add_sample_field(\"aes\", fo.FloatField)\n",
    "dataset_dir = '/cfs_models0/models/fiftyone/'\n",
    "# 获取文件名的字符串\n",
    "file_names = os.listdir(dataset_dir)\n",
    "\n",
    "# 循环遍历文件名列表\n",
    "for filename in file_names:\n",
    "    try:\n",
    "        match = re.search(r'aes_(\\d+\\.\\d+)', filename)\n",
    "        if match:\n",
    "            aes_score = match.group(1)\n",
    "            print(f\"AES Score: {aes_score}\")\n",
    "            aes = float(aes_score)\n",
    "        \n",
    "            sample = dataset[os.path.join(dataset_dir, filename)]\n",
    "            sample[\"aes\"]=aes\n",
    "            print(aes)\n",
    "            sample.save()\n",
    "        \n",
    "    except (IndexError, ValueError):  # 捕获可能的异常\n",
    "        print(f\"文件 {filename} 的名字不符合规则，已跳过.\")\n",
    "        continue  # 继续处理下一个文件名\n",
    "    except KeyError as e:  \n",
    "        # 处理 KeyError 异常，打印警告并跳过  \n",
    "        print(f\"KeyError: 跳过\")  \n",
    "        continue "
   ]
  },
  {
   "cell_type": "markdown",
   "metadata": {},
   "source": [
    "wd14打标"
   ]
  },
  {
   "cell_type": "code",
   "execution_count": null,
   "metadata": {},
   "outputs": [],
   "source": []
  },
  {
   "cell_type": "markdown",
   "metadata": {},
   "source": [
    "llama3.1打标"
   ]
  },
  {
   "cell_type": "code",
   "execution_count": null,
   "metadata": {},
   "outputs": [],
   "source": [
    "!python /home/pbox/snake/joy-caption-pre-alpha/app.py /home/pbox/snake/gf"
   ]
  },
  {
   "cell_type": "markdown",
   "metadata": {},
   "source": [
    "读取tags"
   ]
  },
  {
   "cell_type": "code",
   "execution_count": null,
   "metadata": {},
   "outputs": [],
   "source": [
    "import tqdm\n",
    "from pathlib import Path\n",
    "image_types = ('*.jpg', '*.png', '*.jpeg')\n",
    "image_files = []\n",
    "\n",
    "path = Path(dataset_dir)\n",
    "print(path)\n",
    "for image_type in image_types:\n",
    "    files = list(path.glob(image_type))\n",
    "    for file in files:\n",
    "    # 检查文件名是否以 . 开头\n",
    "        if not file.name.startswith(\".\"):\n",
    "            image_files.append(str(file.resolve()))\n",
    "\n",
    "\n",
    "\n",
    "for image_file in image_files:\n",
    "    sample = dataset[image_file]\n",
    "    image_path = Path(image_file)\n",
    "    tag_file = image_path.with_suffix('.txt')   # 获取tag文件的名字\n",
    "    if os.path.isfile(tag_file):   # 检查tag文件是否已经存在\n",
    "        print(f\"Tag file '{tag_file}'  exists. Skipping image file: {image_file}\")\n",
    "        with open(tag_file, 'r') as f:\n",
    "        # 使用逗号分割每个标签\n",
    "            tags = f.read().split(',')\n",
    "            # 添加标签到样本的tags属性中\n",
    "        for tag in tags:\n",
    "            sample.tags.append(tag.strip())\n",
    "        sample.save()  # 保存样本的修改\n",
    "    \n",
    "\n",
    "\n",
    "\n",
    "    "
   ]
  },
  {
   "cell_type": "markdown",
   "metadata": {},
   "source": [
    "降维"
   ]
  },
  {
   "cell_type": "code",
   "execution_count": 9,
   "metadata": {},
   "outputs": [
    {
     "name": "stdout",
     "output_type": "stream",
     "text": [
      "Computing embeddings...\n",
      " 100% |█████████████| 32087/32087 [8.4m elapsed, 0s remaining, 39.6 samples/s]       \n",
      "Generating visualization...\n",
      "UMAP( verbose=True)\n",
      "Thu Aug 22 15:57:55 2024 Construct fuzzy simplicial set\n",
      "Thu Aug 22 15:57:56 2024 Finding Nearest Neighbors\n",
      "Thu Aug 22 15:57:56 2024 Building RP forest with 14 trees\n",
      "Thu Aug 22 15:57:58 2024 NN descent for 15 iterations\n",
      "\t 1  /  15\n",
      "\t 2  /  15\n",
      "\t 3  /  15\n",
      "\t 4  /  15\n",
      "\t 5  /  15\n",
      "\tStopping threshold met -- exiting after 5 iterations\n",
      "Thu Aug 22 15:58:03 2024 Finished Nearest Neighbor Search\n",
      "Thu Aug 22 15:58:05 2024 Construct embedding\n"
     ]
    },
    {
     "data": {
      "application/vnd.jupyter.widget-view+json": {
       "model_id": "510f930825ac460692c6d764ef13b8e3",
       "version_major": 2,
       "version_minor": 0
      },
      "text/plain": [
       "Epochs completed:   0%|            0/200 [00:00]"
      ]
     },
     "metadata": {},
     "output_type": "display_data"
    },
    {
     "name": "stdout",
     "output_type": "stream",
     "text": [
      "\tcompleted  0  /  200 epochs\n",
      "\tcompleted  20  /  200 epochs\n",
      "\tcompleted  40  /  200 epochs\n",
      "\tcompleted  60  /  200 epochs\n",
      "\tcompleted  80  /  200 epochs\n",
      "\tcompleted  100  /  200 epochs\n",
      "\tcompleted  120  /  200 epochs\n",
      "\tcompleted  140  /  200 epochs\n",
      "\tcompleted  160  /  200 epochs\n",
      "\tcompleted  180  /  200 epochs\n",
      "Thu Aug 22 15:58:16 2024 Finished embedding\n"
     ]
    },
    {
     "data": {
      "text/plain": [
       "<fiftyone.brain.visualization.VisualizationResults at 0x7fe4154dfe50>"
      ]
     },
     "execution_count": 9,
     "metadata": {},
     "output_type": "execute_result"
    }
   ],
   "source": [
    "fob.compute_visualization(dataset,brain_key='vis33',embeddings=\"embedding\",method=\"umap\")"
   ]
  },
  {
   "cell_type": "code",
   "execution_count": 23,
   "metadata": {},
   "outputs": [
    {
     "name": "stdout",
     "output_type": "stream",
     "text": [
      "Downloading jacobmarks/clustering-plugin...\n",
      "  163.0Kb [83.4ms elapsed, ? remaining, 1.9Mb/s]    \n",
      "Copying plugin '@jacobmarks/clustering' to '/home/pbox/fiftyone/__plugins__/@jacobmarks/clustering'\n"
     ]
    }
   ],
   "source": [
    "!fiftyone plugins download https://github.com/jacobmarks/clustering-plugin"
   ]
  },
  {
   "cell_type": "markdown",
   "metadata": {},
   "source": [
    "算奇异值"
   ]
  },
  {
   "cell_type": "code",
   "execution_count": 10,
   "metadata": {},
   "outputs": [
    {
     "name": "stdout",
     "output_type": "stream",
     "text": [
      "Computing uniqueness...\n",
      "Computing neighbors for 32087 embeddings; this may take awhile...\n",
      "Uniqueness computation complete\n"
     ]
    }
   ],
   "source": [
    "fob.compute_uniqueness(dataset, embeddings=\"embedding\") "
   ]
  },
  {
   "cell_type": "code",
   "execution_count": null,
   "metadata": {},
   "outputs": [],
   "source": [
    "most_unique_view = dataset.sort_by(\"uniqueness\", reverse=True)\n",
    "session.view = most_unique_view.view() # Most unique images"
   ]
  },
  {
   "cell_type": "markdown",
   "metadata": {},
   "source": [
    "导出筛选数据集"
   ]
  },
  {
   "cell_type": "code",
   "execution_count": 4,
   "metadata": {},
   "outputs": [
    {
     "name": "stdout",
     "output_type": "stream",
     "text": [
      "Exporting samples...\n",
      " 100% |██████████████████| 1291/1291 [4.6s elapsed, 0s remaining, 250.3 docs/s]      \n"
     ]
    }
   ],
   "source": [
    "export_dir = \"/home/pbox/models/fiftyoneout\"\n",
    "view = dataset.load_saved_view(\"finetunetest\")\n",
    "view.export(\n",
    "    export_dir=export_dir,\n",
    "    dataset_type=fo.types.FiftyOneDataset,\n",
    ")"
   ]
  },
  {
   "cell_type": "markdown",
   "metadata": {},
   "source": [
    "转回tags标签"
   ]
  },
  {
   "cell_type": "code",
   "execution_count": 2,
   "metadata": {},
   "outputs": [],
   "source": [
    "import json\n",
    "from pathlib import Path\n",
    "# JSON文件路径\n",
    "json_file = Path('/home/pbox/models/fiftyoneout/samples.json')\n",
    "# 从JSON文件路径中获取基础路径\n",
    "base_path = json_file.parent\n",
    "\n",
    "# 加载 JSON 数据\n",
    "with json_file.open() as f:\n",
    "    data = json.load(f)\n",
    "# 遍历每一个 sample\n",
    "for sample in data['samples']:\n",
    "    # 提取信息\n",
    "    tags = sample['tags']\n",
    "    # caption = sample['caption']\n",
    "    # 获取文件名\n",
    "    file_path = base_path / Path(sample['filepath'])\n",
    "    # 输出文件名\n",
    "    tag_file = file_path.with_suffix('.txt')\n",
    "    # 检查文件是否已存在\n",
    "    # if tag_file.is_file():\n",
    "    #     print(f\"Tag file '{tag_file}' already exists. Skipping...\")\n",
    "    #     continue\n",
    "    # 将标签和标题保存到同名的 .txt 文件中\n",
    "    with tag_file.open('w') as f:\n",
    "        # 写入标题\n",
    "        # f.write(f\"Caption: {caption}\\n\")\n",
    "            # 在最后添加 \"Chinese ancient\" 标签\n",
    "        tags.append(\"Chinese ancient\")\n",
    "\n",
    "        # 写入标签\n",
    "        f.write(f\"{', '.join(tags)}\\n\")\n",
    " \n"
   ]
  }
 ],
 "metadata": {
  "kernelspec": {
   "display_name": "fiftyone",
   "language": "python",
   "name": "python3"
  },
  "language_info": {
   "codemirror_mode": {
    "name": "ipython",
    "version": 3
   },
   "file_extension": ".py",
   "mimetype": "text/x-python",
   "name": "python",
   "nbconvert_exporter": "python",
   "pygments_lexer": "ipython3",
   "version": "3.10.14"
  }
 },
 "nbformat": 4,
 "nbformat_minor": 2
}
